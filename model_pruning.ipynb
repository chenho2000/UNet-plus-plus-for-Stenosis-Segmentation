{
 "cells": [
  {
   "cell_type": "markdown",
   "id": "2d14ff6c-db1f-484c-bc0e-13a730339a6d",
   "metadata": {},
   "source": [
    "# Model Pruning"
   ]
  },
  {
   "cell_type": "code",
   "execution_count": 1,
   "id": "269e9b4e-5d20-41c9-a363-562de29c493b",
   "metadata": {},
   "outputs": [],
   "source": [
    "# from torchsummary import summary\n",
    "import albumentations as A\n",
    "# import mlflow\n",
    "# import torch.nn as nn\n",
    "# import torch.optim as optim\n",
    "# import tqdm\n",
    "from albumentations.pytorch import ToTensorV2\n",
    "# from torch.optim.lr_scheduler import PolynomialLR\n",
    "# import cv2\n",
    "# from DiceBCELoss import DiceBCELoss\n",
    "# from model import UNetPlusPlus, ResNeXtBottleneck, ResBlock\n",
    "from utils import *\n",
    "import time"
   ]
  },
  {
   "cell_type": "code",
   "execution_count": 2,
   "id": "6c2c8bd0-b401-43ff-bcc1-52206ca7fbfd",
   "metadata": {},
   "outputs": [],
   "source": [
    "device = \"cuda\" if torch.cuda.is_available() else \"cpu\"\n",
    "batch_size=4"
   ]
  },
  {
   "cell_type": "code",
   "execution_count": 3,
   "id": "babfd434-17b6-4ed7-af92-23b477ac00d0",
   "metadata": {},
   "outputs": [
    {
     "name": "stderr",
     "output_type": "stream",
     "text": [
      "/work/m43huang/.local/lib/python3.11/site-packages/albumentations/core/validation.py:87: UserWarning: ShiftScaleRotate is a special case of Affine transform. Please use Affine transform instead.\n",
      "  original_init(self, **validated_kwargs)\n"
     ]
    }
   ],
   "source": [
    "train_transform = A.Compose([\n",
    "    A.VerticalFlip(p=0.5),\n",
    "    A.HorizontalFlip(p=0.5),\n",
    "    A.ShiftScaleRotate(\n",
    "        shift_limit=0.3,\n",
    "        scale_limit=0.5,\n",
    "        rotate_limit=30, \n",
    "        border_mode=cv2.BORDER_REFLECT,\n",
    "        p=0.5\n",
    "    ),\n",
    "    A.Affine(shear=5, p=0.5),\n",
    "    A.Perspective(scale=(0.001, 0.001), p=0.5),\n",
    "     ToTensorV2()\n",
    "])\n",
    "\n",
    "val_transform = A.Compose([\n",
    "    ToTensorV2()  # This ensures the output is in the format PyTorch expects\n",
    "])\n",
    "\n",
    "_, stenosis_test, _ = get_loaders('dataset/stenosis/train', 'dataset/stenosis/test',\n",
    "                                                          'dataset/stenosis/val', batch_size, train_transform,\n",
    "                                                          val_transform, val_transform)"
   ]
  },
  {
   "cell_type": "code",
   "execution_count": 4,
   "id": "b0cb3bc6-5dd0-41d7-82d5-9bafbfadfb01",
   "metadata": {},
   "outputs": [],
   "source": [
    "model = torch.load(\"./checkpoint/sten_unet++_deep_supervision/best.pth\")"
   ]
  },
  {
   "cell_type": "code",
   "execution_count": 12,
   "id": "a22a8f9d-c4cd-42f2-acfa-885c3eb1c2ce",
   "metadata": {},
   "outputs": [
    {
     "name": "stdout",
     "output_type": "stream",
     "text": [
      "UNet++ L(1) without post-processing: 0.2420257642543379, 0.14060769285971803, 0.24202576425732744\n",
      "UNet++ L(1) with post-processing: 0.21381404021530911, 0.12442527496594293, 0.21381404021979308\n",
      "--------------- Runtime: 0.1252s\n",
      "UNet++ L(2) without post-processing: 0.3868796768114903, 0.2444783650028748, 0.386879676814891\n",
      "UNet++ L(2) with post-processing: 0.3106268932970733, 0.19460390212308376, 0.31062689330296855\n",
      "--------------- Runtime: 0.1919s\n",
      "UNet++ L(3) without post-processing: 0.5176156703956384, 0.357965332905696, 0.5176156703982292\n",
      "UNet++ L(3) with post-processing: 0.5199452014371198, 0.36298803441384125, 0.5199452014399903\n",
      "--------------- Runtime: 0.2470s\n",
      "UNet++ L(4) without post-processing: 0.5757653585261783, 0.413384362934059, 0.575765358528384\n",
      "UNet++ L(4) with post-processing: 0.5776053783651814, 0.4168090191766692, 0.5776053783675202\n",
      "--------------- Runtime: 0.2847s\n"
     ]
    }
   ],
   "source": [
    "for i in range(1,5):\n",
    "    avg_f1, avg_iou, avg_dsc, runtime = track_metric(stenosis_test, model, device=device, post_processing=False, l=i, benchmark=True)\n",
    "    print(f\"UNet++ L({i}) without post-processing: {avg_f1}, {avg_iou}, {avg_dsc}\")\n",
    "    avg_f1, avg_iou, avg_dsc = track_metric(stenosis_test, model, device=device, post_processing=600, l=i)\n",
    "    print(f\"UNet++ L({i}) with post-processing: {avg_f1}, {avg_iou}, {avg_dsc}\")\n",
    "    print(f\"{'-'*15} Runtime: {runtime*1e-9:.4f}s\")"
   ]
  }
 ],
 "metadata": {
  "kernelspec": {
   "display_name": "Python 3 (ipykernel)",
   "language": "python",
   "name": "python3"
  },
  "language_info": {
   "codemirror_mode": {
    "name": "ipython",
    "version": 3
   },
   "file_extension": ".py",
   "mimetype": "text/x-python",
   "name": "python",
   "nbconvert_exporter": "python",
   "pygments_lexer": "ipython3",
   "version": "3.11.5"
  }
 },
 "nbformat": 4,
 "nbformat_minor": 5
}
